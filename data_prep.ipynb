{
 "cells": [
  {
   "cell_type": "code",
   "execution_count": 1,
   "metadata": {},
   "outputs": [],
   "source": [
    "# Import dependency\n",
    "# need to install pydub\n",
    "import os \n",
    "from pydub import AudioSegment\n",
    "import pandas as pd\n",
    "import glob\n",
    "import numpy as np\n",
    "import re\n",
    "import librosa\n",
    "from tqdm import tqdm"
   ]
  },
  {
   "cell_type": "code",
   "execution_count": 2,
   "metadata": {},
   "outputs": [],
   "source": [
    "def extract_feature(file_name, **kwargs):\n",
    "    \"\"\"\n",
    "    Extract feature from audio file `file_name`\n",
    "        Features supported:\n",
    "            - MFCC (mfcc)\n",
    "            - Chroma (chroma)\n",
    "            - MEL Spectrogram Frequency (mel)\n",
    "            - Contrast (contrast)\n",
    "            - Tonnetz (tonnetz)\n",
    "        e.g:\n",
    "        `features = extract_feature(path, mel=True, mfcc=True)`\n",
    "    \"\"\"\n",
    "    mfcc = kwargs.get(\"mfcc\")\n",
    "    chroma = kwargs.get(\"chroma\")\n",
    "    mel = kwargs.get(\"mel\")\n",
    "    contrast = kwargs.get(\"contrast\")\n",
    "    tonnetz = kwargs.get(\"tonnetz\")\n",
    "    X, sample_rate = librosa.core.load(file_name)\n",
    "    if chroma or contrast:\n",
    "        stft = np.abs(librosa.stft(X))\n",
    "    result = np.array([])\n",
    "    if mfcc:\n",
    "        mfccs = np.mean(librosa.feature.mfcc(y=X, sr=sample_rate, n_mfcc=40).T, axis=0)\n",
    "        result = np.hstack((result, mfccs))\n",
    "    if chroma:\n",
    "        chroma = np.mean(librosa.feature.chroma_stft(S=stft, sr=sample_rate).T,axis=0)\n",
    "        result = np.hstack((result, chroma))\n",
    "    if mel:\n",
    "        mel = np.mean(librosa.feature.melspectrogram(X, sr=sample_rate).T,axis=0)\n",
    "        result = np.hstack((result, mel))\n",
    "    if contrast:\n",
    "        contrast = np.mean(librosa.feature.spectral_contrast(S=stft, sr=sample_rate).T,axis=0)\n",
    "        result = np.hstack((result, contrast))\n",
    "    if tonnetz:\n",
    "        tonnetz = np.mean(librosa.feature.tonnetz(y=librosa.effects.harmonic(X), sr=sample_rate).T,axis=0)\n",
    "        result = np.hstack((result, tonnetz))\n",
    "    return result"
   ]
  },
  {
   "cell_type": "code",
   "execution_count": 16,
   "metadata": {},
   "outputs": [
    {
     "name": "stdout",
     "output_type": "stream",
     "text": [
      "[+] Processing cv-valid-train.csv\n",
      "Previously: 73278 rows\n",
      "Now: 73278 rows\n"
     ]
    },
    {
     "name": "stderr",
     "output_type": "stream",
     "text": [
      "Extracting features of cv-valid-train: 100%|██████████| 73278/73278 [4:39:17<00:00,  4.37it/s]\n"
     ]
    }
   ],
   "source": [
    "# This line find all our database and store them as a list of ospath object\n",
    "dirname = \"data\"\n",
    "\n",
    "if not os.path.isdir(dirname):\n",
    "    os.mkdir(dirname)\n",
    "\n",
    "csv_files = glob.glob(\"*csv\")\n",
    "\n",
    "# This loop through all filenames stored in our csv file and filter out those has no label on gender column\n",
    "for j,csv_file in enumerate(csv_files):\n",
    "    print(\"[+] Processing\", csv_file)\n",
    "    df = pd.read_csv(csv_file)\n",
    "    df[\"new_file_name\"] = df[\"filename\"].apply(lambda x: re.sub(\".mp3\",\".npy\",str(x)))\n",
    "\n",
    "    new_df = df[[\"new_file_name\",\"gender\"]]\n",
    "    print(\"Previously:\", len(new_df), \"rows\")\n",
    "    # Use boolean mask to filter rows without gender label\n",
    "    new_df = new_df[np.logical_or(df[\"gender\"] == \"male\", df[\"gender\"] == \"female\")]\n",
    "    print(\"Now:\", len(new_df), \"rows\")\n",
    "    new_csv_file = os.path.join(dirname, csv_file)\n",
    "    \n",
    "    new_df.to_csv(new_csv_file, index= False)\n",
    "\n",
    "    folder_name, _ = csv_file.split(\".\")\n",
    "    # Empty list for audio file path\n",
    "    audio_files = [] \n",
    "\n",
    "    # append path to list\n",
    "    for x in df[\"filename\"]:\n",
    "        path = x.split(\"/\")\n",
    "        audio_files.append(f\"data/{path[0]}/{x}\")\n",
    "\n",
    "    # convert mp3 file to npy array which contains the melspectrogram feature\n",
    "    for i, audio_file in tqdm(list(enumerate(audio_files)), f\"Extracting features of {folder_name}\"):\n",
    "        splited = os.path.split(audio_file)\n",
    "        audio_file_path = f\"data/{os.path.split(splited[0])[-1]}/{os.path.split(splited[0])[-1]}/{splited[-1]}\"\n",
    "        output_file_path = f\"data/{os.path.split(splited[0])[-1]}/{splited[-1]}\"\n",
    "        # audio_filename = f\"{os.path.split}\"\n",
    "        # Files\n",
    "        dst = re.sub(\".mp3\",\".wav\",str(output_file_path))\n",
    "        npy_file_name = re.sub(\".mp3\",\"\",str(output_file_path))\n",
    "        sound = AudioSegment.from_mp3(audio_file_path)\n",
    "        samples = sound.get_array_of_samples()\n",
    "        # Export to a wav file, because librosa takes wav object only\n",
    "        sound.export(dst, format= \"wav\")\n",
    "        \n",
    "        feature = extract_feature(dst, mel = True)\n",
    "        np.save(npy_file_name,feature)\n",
    "        # Remove the wav file\n",
    "        os.remove(dst)\n",
    "\n",
    " \n",
    "\n",
    "\n",
    "\n",
    "\n"
   ]
  },
  {
   "cell_type": "code",
   "execution_count": null,
   "metadata": {},
   "outputs": [],
   "source": [
    "# csv_files = glob.glob(\"*.csv\")\n",
    "# print(csv_files)\n",
    "# # all_audio_filenames = set(new_df[\"new_file_name\"])\n",
    "\n",
    "# # audio_files = glob.glob(f\"{folder_name}/*\")\n",
    "\n",
    "# # for i, audio_file in tqdm(list(enumerate(audio_files)), f\"Extracting features of {folder_name}\"):\n",
    "# #         splited = os.path.split(audio_file)\n",
    "# #         # audio_filename = os.path.join(os.path.split(splited[0])[-1], splited[-1])\n",
    "# #         audio_filename = f\"{os.path.split(splited[0])[-1]}/{splited[-1]}\"\n",
    "# # # for j, csv_file in enumerate(csv_files):\n",
    "# # #     folder_name, _ = csv_file.split(\".\")\n",
    "\n",
    "# # #     print(folder_name)\n"
   ]
  }
 ],
 "metadata": {
  "interpreter": {
   "hash": "63fd5069d213b44bf678585dea6b12cceca9941eaf7f819626cde1f2670de90d"
  },
  "kernelspec": {
   "display_name": "Python 3.9.1 64-bit",
   "language": "python",
   "name": "python3"
  },
  "language_info": {
   "codemirror_mode": {
    "name": "ipython",
    "version": 3
   },
   "file_extension": ".py",
   "mimetype": "text/x-python",
   "name": "python",
   "nbconvert_exporter": "python",
   "pygments_lexer": "ipython3",
   "version": "3.9.1"
  },
  "orig_nbformat": 4
 },
 "nbformat": 4,
 "nbformat_minor": 2
}
